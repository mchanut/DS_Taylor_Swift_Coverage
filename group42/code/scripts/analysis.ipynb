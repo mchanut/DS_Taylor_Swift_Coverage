{
 "cells": [
  {
   "cell_type": "code",
   "execution_count": 1,
   "metadata": {},
   "outputs": [],
   "source": [
    "import pandas as pd\n",
    "import json"
   ]
  },
  {
   "cell_type": "code",
   "execution_count": 2,
   "metadata": {},
   "outputs": [],
   "source": [
    "df = pd.read_csv(\"../data/annotated_data/swift_annotated.tsv\", sep='\\t')"
   ]
  },
  {
   "cell_type": "markdown",
   "metadata": {},
   "source": [
    "## Get the sentiment counts for each topic"
   ]
  },
  {
   "cell_type": "code",
   "execution_count": 3,
   "metadata": {},
   "outputs": [],
   "source": [
    "topics = df[\"Category\"].unique()\n",
    "topic_sentiment = {}\n",
    "for topic in topics:\n",
    "    topic_sentiment[topic] = {}"
   ]
  },
  {
   "cell_type": "code",
   "execution_count": 4,
   "metadata": {},
   "outputs": [],
   "source": [
    "for topic in topics:\n",
    "    topic_df = df.loc[df[\"Category\"] == topic]\n",
    "    counts = topic_df[\"Sentiment\"].value_counts()\n",
    "    topic_sentiment[topic][\"positive\"] = int(counts.get(1.0, 0))\n",
    "    topic_sentiment[topic][\"neutral\"] = int(counts.get(2.0, 0))\n",
    "    topic_sentiment[topic][\"negative\"] = int(counts.get(3.0, 0))"
   ]
  },
  {
   "cell_type": "code",
   "execution_count": 5,
   "metadata": {},
   "outputs": [],
   "source": [
    "with open(\"../results/topic_sentiment.json\", \"w\") as f:\n",
    "    json.dump(topic_sentiment, f, indent=4)"
   ]
  },
  {
   "cell_type": "markdown",
   "metadata": {},
   "source": [
    "### Topic distribution"
   ]
  },
  {
   "cell_type": "code",
   "execution_count": 25,
   "metadata": {},
   "outputs": [],
   "source": [
    "topic_percentages = {}\n",
    "topic_counts = df[\"Category\"].value_counts()\n",
    "for topic in topics:\n",
    "    topic_percentages[topic] = round(topic_counts.get(topic, 0) / sum(topic_counts), 2)\n",
    "topic_percentages = {k: v for k, v in sorted(topic_percentages.items(), key=lambda item: item[1], reverse=True)}\n",
    "topic_percentages[\"Music Releases\"] = topic_percentages[\"Music Releases\"] - 0.01"
   ]
  },
  {
   "cell_type": "code",
   "execution_count": 26,
   "metadata": {},
   "outputs": [],
   "source": [
    "with open(\"../results/topic_percentages.json\", \"w\") as f:\n",
    "    json.dump(topic_percentages, f, indent=4)"
   ]
  },
  {
   "cell_type": "markdown",
   "metadata": {},
   "source": [
    "## Get the total sentiment counts"
   ]
  },
  {
   "cell_type": "code",
   "execution_count": 7,
   "metadata": {},
   "outputs": [],
   "source": [
    "sentiment = {}\n",
    "counts = df[\"Sentiment\"].value_counts()\n",
    "sentiment[\"positive\"] = int(counts.get(1.0, 0))\n",
    "sentiment[\"neutral\"] = int(counts.get(2.0, 0))\n",
    "sentiment[\"negative\"] = int(counts.get(3.0, 0))"
   ]
  },
  {
   "cell_type": "code",
   "execution_count": 8,
   "metadata": {},
   "outputs": [],
   "source": [
    "with open(\"../results/sentiment_distribution.json\", \"w\") as f:\n",
    "    json.dump(sentiment, f, indent=4)"
   ]
  },
  {
   "cell_type": "markdown",
   "metadata": {},
   "source": [
    "## Get Sentiment percentages"
   ]
  },
  {
   "cell_type": "markdown",
   "metadata": {},
   "source": [
    "### Total percentage"
   ]
  },
  {
   "cell_type": "code",
   "execution_count": 9,
   "metadata": {},
   "outputs": [],
   "source": [
    "sentiment_percentages = {}\n",
    "total = sum(sentiment.values())\n",
    "sentiment_percentages[\"positive\"] = round(sentiment[\"positive\"] / total, 2)\n",
    "sentiment_percentages[\"neutral\"] = round(sentiment[\"neutral\"] / total, 2)\n",
    "sentiment_percentages[\"negative\"] = round(sentiment[\"negative\"] / total, 2)"
   ]
  },
  {
   "cell_type": "code",
   "execution_count": 10,
   "metadata": {},
   "outputs": [],
   "source": [
    "with open(\"../results/sentiment_percentages.json\", \"w\") as f:\n",
    "    json.dump(sentiment_percentages, f, indent=4)"
   ]
  },
  {
   "cell_type": "markdown",
   "metadata": {},
   "source": [
    "### Within topic sentiment percentage"
   ]
  },
  {
   "cell_type": "code",
   "execution_count": 27,
   "metadata": {},
   "outputs": [],
   "source": [
    "with open(\"../results/topic_sentiment.json\", \"r\") as f:\n",
    "    within_topic_percentages = json.load(f)\n",
    "for topic in topics:\n",
    "    topic_total = sum(topic_sentiment[topic].values())\n",
    "    within_topic_percentages[topic][\"positive\"] = round(topic_sentiment[topic][\"positive\"] / topic_total, 2)\n",
    "    within_topic_percentages[topic][\"neutral\"] = round(topic_sentiment[topic][\"neutral\"] / topic_total, 2)\n",
    "    within_topic_percentages[topic][\"negative\"] = round(topic_sentiment[topic][\"negative\"] / topic_total, 2)"
   ]
  },
  {
   "cell_type": "code",
   "execution_count": 28,
   "metadata": {},
   "outputs": [],
   "source": [
    "with open(\"../results/within_topic_percentages.json\", \"w\") as f:\n",
    "    json.dump(within_topic_percentages, f, indent=4)"
   ]
  },
  {
   "cell_type": "markdown",
   "metadata": {},
   "source": [
    "### Total topic sentiment percentage"
   ]
  },
  {
   "cell_type": "code",
   "execution_count": 29,
   "metadata": {},
   "outputs": [],
   "source": [
    "with open(\"../results/topic_sentiment.json\", \"r\") as f:\n",
    "    total_topic_percentages = json.load(f)\n",
    "for topic in topics:\n",
    "    total_topic_percentages[topic][\"positive\"] = round(total_topic_percentages[topic][\"positive\"] / sentiment[\"positive\"], 2)\n",
    "    total_topic_percentages[topic][\"neutral\"] = round(total_topic_percentages[topic][\"neutral\"] / sentiment[\"neutral\"], 2)\n",
    "    total_topic_percentages[topic][\"negative\"] = round(total_topic_percentages[topic][\"negative\"] / sentiment[\"negative\"], 2)"
   ]
  },
  {
   "cell_type": "code",
   "execution_count": 30,
   "metadata": {},
   "outputs": [],
   "source": [
    "with open(\"../results/sentiment_topic_percentages.json\", \"w\") as f:\n",
    "    json.dump(total_topic_percentages, f, indent=4)"
   ]
  }
 ],
 "metadata": {
  "kernelspec": {
   "display_name": "Python 3",
   "language": "python",
   "name": "python3"
  },
  "language_info": {
   "codemirror_mode": {
    "name": "ipython",
    "version": 3
   },
   "file_extension": ".py",
   "mimetype": "text/x-python",
   "name": "python",
   "nbconvert_exporter": "python",
   "pygments_lexer": "ipython3",
   "version": "3.11.5"
  }
 },
 "nbformat": 4,
 "nbformat_minor": 2
}
